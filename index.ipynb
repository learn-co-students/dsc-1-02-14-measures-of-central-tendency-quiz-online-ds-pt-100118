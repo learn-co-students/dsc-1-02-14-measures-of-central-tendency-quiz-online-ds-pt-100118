{
 "cells": [
  {
   "cell_type": "markdown",
   "metadata": {},
   "source": [
    "# Measures of Central Tendency - Quiz\n",
    "\n",
    "## Objectives\n",
    "You will be able to:\n",
    "* Understand and describe the significance of measuring central tendency of continuous data\n",
    "* Understand the formula and intuition behind the mean, median, mode and modal class\n",
    "* Compare mean-median-mode, along with histograms to explain the central tendency of given data"
   ]
  },
  {
   "cell_type": "markdown",
   "metadata": {},
   "source": [
    "**Note, for these exercises, you do not need to write code to answer them - we'll do that later. Just do them by hand or with a calculator to make sure you're comfortable with the process of calculating the answers!**\n",
    "\n",
    "### Exercise 1\n",
    "Calculate the mean, median and mode for this data set: \n",
    "```\n",
    "19, 18, 21, 16, 15, 17, 20, 18\n",
    "```\n",
    "While comparing the results of three measures, comment about this distribution. "
   ]
  },
  {
   "cell_type": "code",
   "execution_count": 10,
   "metadata": {},
   "outputs": [
    {
     "name": "stdout",
     "output_type": "stream",
     "text": [
      "Mean: 18\n",
      "Median: 18\n",
      "Mode: 18\n",
      "This data set is in symmetrical distribution.\n"
     ]
    }
   ],
   "source": [
    "# Your answer here \n",
    "data_set_one = [19, 18, 21, 16, 15, 17, 20, 18]\n",
    "\n",
    "mean_one = int(sum(data_set_one)/len(data_set_one))\n",
    "print(f'Mean: {mean_one}')\n",
    "\n",
    "sorted_data_set_one = sorted(data_set_one)\n",
    "median_one = int((sorted_data_set_one[int(len(sorted_data_set_one) / 2 + 0.5)] + \n",
    "              sorted_data_set_one[int(len(sorted_data_set_one) / 2 - 0.5)]) / 2)\n",
    "print(f'Median: {median_one}')\n",
    "\n",
    "data_set_one_counts = {}\n",
    "\n",
    "for datum in data_set_one:\n",
    "    if data_set_one_counts.get(datum) != None:\n",
    "        data_set_one_counts[datum] += 1\n",
    "    else:\n",
    "        data_set_one_counts[datum] = 1        \n",
    "\n",
    "mode_one = sorted(data_set_one_counts.items(), key=lambda x: x[1], reverse=True)[0]\n",
    "print(f'Mode: {mode_one[0]}')\n",
    "\n",
    "print('This data set is in symmetrical distribution.')"
   ]
  },
  {
   "cell_type": "markdown",
   "metadata": {},
   "source": [
    "### Exercise 2\n",
    "\n",
    "Calculate the mean, median and mode for given distribution and state which of these measures does not describe the \"middle\" of this data set? and why ?\n",
    "```\n",
    "100, 99, 97, 97, 96, 98, 95, 72\n",
    "```"
   ]
  },
  {
   "cell_type": "code",
   "execution_count": 17,
   "metadata": {},
   "outputs": [
    {
     "name": "stdout",
     "output_type": "stream",
     "text": [
      "Mean: 94\n",
      "Median: 97\n",
      "Mode: 97\n",
      "The mean is not in the middle because the distribution is negatively skewed.\n"
     ]
    }
   ],
   "source": [
    "# Your answer here \n",
    "data_set_two = [100, 99, 97, 97, 96, 98, 95, 72]\n",
    "\n",
    "# Mean\n",
    "mean_two = int(sum(data_set_two)/len(data_set_two))\n",
    "print(f'Mean: {mean_two}')\n",
    "\n",
    "# Median\n",
    "sorted_data_set_two = sorted(data_set_two)\n",
    "median_two = int((sorted_data_set_two[int(len(sorted_data_set_two) / 2 + 0.5)] + \n",
    "              sorted_data_set_two[int(len(sorted_data_set_two) / 2 - 0.5)]) / 2)\n",
    "print(f'Median: {median_two}')\n",
    "\n",
    "# Mode\n",
    "data_set_two_counts = {}\n",
    "for datum in data_set_two:\n",
    "    if data_set_two_counts.get(datum) != None:\n",
    "        data_set_two_counts[datum] += 1\n",
    "    else:\n",
    "        data_set_two_counts[datum] = 1        \n",
    "mode_two = sorted(data_set_two_counts.items(), key=lambda x: x[1], reverse=True)[0]\n",
    "print(f'Mode: {mode_two[0]}')\n",
    "\n",
    "# Which of these measures does not describe the \"middle\" of this data set? and why ?\n",
    "print('The mean is not in the middle because the distribution is negatively skewed.')"
   ]
  },
  {
   "cell_type": "markdown",
   "metadata": {},
   "source": [
    "### Exercise 3\n",
    "On the first three days of his bookshop opening, Joe sold 15, 18, and 16 books (He initially hoped that he would sell 17 books every day).  How many books does he need to sell on the next day to have a mean sale of 17?"
   ]
  },
  {
   "cell_type": "code",
   "execution_count": 16,
   "metadata": {},
   "outputs": [
    {
     "name": "stdout",
     "output_type": "stream",
     "text": [
      "19\n"
     ]
    }
   ],
   "source": [
    "# Your answer here \n",
    "sales_numbers = [15, 18, 16]\n",
    "x = int(17 * (len(sales_numbers) + 1) - sum(sales_numbers))\n",
    "print(x)"
   ]
  },
  {
   "cell_type": "markdown",
   "metadata": {},
   "source": [
    "### Exercise 4\n",
    "The histograms show the amount of time (hours per day) spent on Facebook by 46 middle school girls and 40 middle school boys from a school in San Francisco. A total of 50 boys and 50 girls took the survey, 4 girls and 10 boys did not use Facebook at all. \n",
    "Each is graphed with a bin width of 0.25 hours.\n",
    "\n",
    "![](boys.png)\n",
    "![](girls.png)\n",
    "\n",
    "Looking at these histograms, answer following questions. \n",
    "\n",
    "*Hint: For most parts, you will have to figure out the location of required bins and count the frequencies. *\n",
    "\n",
    "#### How many boys spend more than 1.5 hours/day on Facebook?\n"
   ]
  },
  {
   "cell_type": "code",
   "execution_count": 20,
   "metadata": {},
   "outputs": [
    {
     "data": {
      "text/plain": [
       "8"
      ]
     },
     "execution_count": 20,
     "metadata": {},
     "output_type": "execute_result"
    }
   ],
   "source": [
    "# Your answer here \n",
    "8"
   ]
  },
  {
   "cell_type": "markdown",
   "metadata": {},
   "source": [
    "#### Compare the percentage of boys and girls that spend more than zero but less than 1 hour/day on Facebook."
   ]
  },
  {
   "cell_type": "code",
   "execution_count": 24,
   "metadata": {},
   "outputs": [
    {
     "name": "stdout",
     "output_type": "stream",
     "text": [
      "About 28% more boys than girls spend more than zero but less than 1 hour/day on Facebook\n"
     ]
    }
   ],
   "source": [
    "# Your answer here \n",
    "girls_0_1 = 10/46*100\n",
    "boys_0_1 = 20/40*100\n",
    "\n",
    "if girls_0_1 == boys_0_1:\n",
    "    print(f'{girls_0_1}% of both boys and girls spend more than zero but less than 1 hour/day on Facebook')\n",
    "elif girls_0_1 > boys_0_1:\n",
    "    print(f'About {int(girls_0_1 - boys_0_1)}% more girls spend more than zero but less than 1 hour/day on Facebook')\n",
    "else:\n",
    "    print(f'About {int(boys_0_1 - girls_0_1)}% more boys than girls spend more than zero but less than 1 hour/day on Facebook')"
   ]
  },
  {
   "cell_type": "markdown",
   "metadata": {},
   "source": [
    "#### Find the bin where the median of the boys' data set lies."
   ]
  },
  {
   "cell_type": "code",
   "execution_count": 36,
   "metadata": {},
   "outputs": [
    {
     "name": "stdout",
     "output_type": "stream",
     "text": [
      "Median: 1.125\n",
      "Bin #5, 1.0 - 1.25 hours/day\n"
     ]
    }
   ],
   "source": [
    "# Your answer here \n",
    "boys_data = {0.25: 1, 0.5: 6, 0.75: 9, 1.0: 4, 1.25: 7, 1.5: 5, 1.75: 5, 2.0: 3}\n",
    "\n",
    "sorted_boys_data = sorted(boys_data.keys())\n",
    "boys_median = (sorted_boys_data[int(len(sorted_boys_data) / 2 + 0.5)] + \n",
    "              sorted_boys_data[int(len(sorted_boys_data) / 2 - 0.5)]) / 2\n",
    "print(f'Median: {boys_median}')\n",
    "print('Bin #5, 1.0 - 1.25 hours/day')"
   ]
  },
  {
   "cell_type": "markdown",
   "metadata": {},
   "source": [
    "#### In terms of Facebook usage times based on given data, what can you conclude about usage habits of boys and girls?"
   ]
  },
  {
   "cell_type": "code",
   "execution_count": 42,
   "metadata": {},
   "outputs": [
    {
     "name": "stdout",
     "output_type": "stream",
     "text": [
      "In general, boys use Facebook less than girls.\n",
      "Boys are more consistent in their usage habits, with a median of 1.125 hours/day.\n",
      "Girls can be a part of one of three groups:\n",
      "~1 hrs/day, ~2 hrs/day, or ~3 hrs/day\n"
     ]
    }
   ],
   "source": [
    "# Your answer here \n",
    "print(f'In general, boys use Facebook less than girls.\\nBoys are more consistent in their usage habits, with a median of {boys_median} hours/day.\\nGirls can be a part of one of three groups:\\n~1 hrs/day, ~2 hrs/day, or ~3 hrs/day')"
   ]
  }
 ],
 "metadata": {
  "kernelspec": {
   "display_name": "Python 3",
   "language": "python",
   "name": "python3"
  },
  "language_info": {
   "codemirror_mode": {
    "name": "ipython",
    "version": 3
   },
   "file_extension": ".py",
   "mimetype": "text/x-python",
   "name": "python",
   "nbconvert_exporter": "python",
   "pygments_lexer": "ipython3",
   "version": "3.7.0"
  }
 },
 "nbformat": 4,
 "nbformat_minor": 2
}
